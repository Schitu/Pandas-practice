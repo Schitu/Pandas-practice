{
 "cells": [
  {
   "cell_type": "code",
   "execution_count": 1,
   "id": "01cb532a-a2da-46a3-bff8-3fdf2887ab14",
   "metadata": {},
   "outputs": [],
   "source": [
    "import pandas as pd\n",
    "dict1 ={'Student Name':['Priyang','Aadhya','Krisha','Vedant','Parshv',\n",
    "                'Mittal','Archana'],\n",
    "                'Marks':[98,89,99,87,90,83,82],\n",
    "               }\n",
    "df1=pd.DataFrame(dict1)\n"
   ]
  },
  {
   "cell_type": "code",
   "execution_count": 5,
   "id": "94f99bcb-fe3b-495d-a990-b5d868430cd1",
   "metadata": {},
   "outputs": [
    {
     "data": {
      "text/plain": [
       "0    Priyang\n",
       "1     Aadhya\n",
       "2     Krisha\n",
       "3     Vedant\n",
       "4     Parshv\n",
       "5     Mittal\n",
       "6    Archana\n",
       "Name: Student Name, dtype: object"
      ]
     },
     "execution_count": 5,
     "metadata": {},
     "output_type": "execute_result"
    }
   ],
   "source": [
    "df1['Student Name']"
   ]
  },
  {
   "cell_type": "code",
   "execution_count": 6,
   "id": "8d1dab74-9a4b-482c-9487-663404a5e843",
   "metadata": {},
   "outputs": [
    {
     "data": {
      "text/html": [
       "<div>\n",
       "<style scoped>\n",
       "    .dataframe tbody tr th:only-of-type {\n",
       "        vertical-align: middle;\n",
       "    }\n",
       "\n",
       "    .dataframe tbody tr th {\n",
       "        vertical-align: top;\n",
       "    }\n",
       "\n",
       "    .dataframe thead th {\n",
       "        text-align: right;\n",
       "    }\n",
       "</style>\n",
       "<table border=\"1\" class=\"dataframe\">\n",
       "  <thead>\n",
       "    <tr style=\"text-align: right;\">\n",
       "      <th></th>\n",
       "      <th>Student Name</th>\n",
       "      <th>Marks</th>\n",
       "    </tr>\n",
       "  </thead>\n",
       "  <tbody>\n",
       "    <tr>\n",
       "      <th>0</th>\n",
       "      <td>Priyang</td>\n",
       "      <td>98</td>\n",
       "    </tr>\n",
       "    <tr>\n",
       "      <th>1</th>\n",
       "      <td>Aadhya</td>\n",
       "      <td>89</td>\n",
       "    </tr>\n",
       "    <tr>\n",
       "      <th>2</th>\n",
       "      <td>Krisha</td>\n",
       "      <td>99</td>\n",
       "    </tr>\n",
       "    <tr>\n",
       "      <th>3</th>\n",
       "      <td>Vedant</td>\n",
       "      <td>87</td>\n",
       "    </tr>\n",
       "    <tr>\n",
       "      <th>4</th>\n",
       "      <td>Parshv</td>\n",
       "      <td>90</td>\n",
       "    </tr>\n",
       "    <tr>\n",
       "      <th>5</th>\n",
       "      <td>Mittal</td>\n",
       "      <td>83</td>\n",
       "    </tr>\n",
       "    <tr>\n",
       "      <th>6</th>\n",
       "      <td>Archana</td>\n",
       "      <td>82</td>\n",
       "    </tr>\n",
       "  </tbody>\n",
       "</table>\n",
       "</div>"
      ],
      "text/plain": [
       "  Student Name  Marks\n",
       "0      Priyang     98\n",
       "1       Aadhya     89\n",
       "2       Krisha     99\n",
       "3       Vedant     87\n",
       "4       Parshv     90\n",
       "5       Mittal     83\n",
       "6      Archana     82"
      ]
     },
     "execution_count": 6,
     "metadata": {},
     "output_type": "execute_result"
    }
   ],
   "source": [
    "df1[['Student Name','Marks']]"
   ]
  },
  {
   "cell_type": "code",
   "execution_count": 10,
   "id": "506550d6-761b-4df2-a473-69c52475a359",
   "metadata": {},
   "outputs": [
    {
     "ename": "SyntaxError",
     "evalue": "invalid syntax (1145130898.py, line 1)",
     "output_type": "error",
     "traceback": [
      "\u001b[1;36m  Cell \u001b[1;32mIn[10], line 1\u001b[1;36m\u001b[0m\n\u001b[1;33m    df1.Student Name\u001b[0m\n\u001b[1;37m                ^\u001b[0m\n\u001b[1;31mSyntaxError\u001b[0m\u001b[1;31m:\u001b[0m invalid syntax\n"
     ]
    }
   ],
   "source": [
    "df1.Student Name"
   ]
  },
  {
   "cell_type": "markdown",
   "id": "e2320c6e-ce4c-45a6-a2c0-b0a76d1cf05f",
   "metadata": {},
   "source": [
    "we cannot access the student name column beacuse there is a space in the heading so in these dot notations gives invalid syntax so we have to use brackets"
   ]
  },
  {
   "cell_type": "code",
   "execution_count": 12,
   "id": "ef15175a-546d-4d5e-926b-ef689ba6d825",
   "metadata": {},
   "outputs": [
    {
     "data": {
      "text/plain": [
       "0    98\n",
       "1    89\n",
       "2    99\n",
       "3    87\n",
       "4    90\n",
       "5    83\n",
       "6    82\n",
       "Name: Marks, dtype: int64"
      ]
     },
     "execution_count": 12,
     "metadata": {},
     "output_type": "execute_result"
    }
   ],
   "source": [
    "df1.Marks"
   ]
  },
  {
   "cell_type": "markdown",
   "id": "38d2844e-163f-4665-af8e-e0ef228b4ffc",
   "metadata": {},
   "source": [
    "marks donot have space in cloumn so we can use either brackets or dot notation"
   ]
  },
  {
   "cell_type": "code",
   "execution_count": null,
   "id": "190060df-de91-4a00-8ca6-baf27778d1fc",
   "metadata": {},
   "outputs": [],
   "source": []
  }
 ],
 "metadata": {
  "kernelspec": {
   "display_name": "Python 3 (ipykernel)",
   "language": "python",
   "name": "python3"
  },
  "language_info": {
   "codemirror_mode": {
    "name": "ipython",
    "version": 3
   },
   "file_extension": ".py",
   "mimetype": "text/x-python",
   "name": "python",
   "nbconvert_exporter": "python",
   "pygments_lexer": "ipython3",
   "version": "3.12.3"
  }
 },
 "nbformat": 4,
 "nbformat_minor": 5
}
