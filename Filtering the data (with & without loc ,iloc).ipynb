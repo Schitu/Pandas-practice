{
 "cells": [
  {
   "cell_type": "code",
   "execution_count": 1,
   "id": "ba86a8f0-e719-4e18-9ce9-7a1a9affd993",
   "metadata": {},
   "outputs": [
    {
     "data": {
      "text/html": [
       "<div>\n",
       "<style scoped>\n",
       "    .dataframe tbody tr th:only-of-type {\n",
       "        vertical-align: middle;\n",
       "    }\n",
       "\n",
       "    .dataframe tbody tr th {\n",
       "        vertical-align: top;\n",
       "    }\n",
       "\n",
       "    .dataframe thead th {\n",
       "        text-align: right;\n",
       "    }\n",
       "</style>\n",
       "<table border=\"1\" class=\"dataframe\">\n",
       "  <thead>\n",
       "    <tr style=\"text-align: right;\">\n",
       "      <th></th>\n",
       "      <th>Name</th>\n",
       "      <th>Marks</th>\n",
       "      <th>Grades</th>\n",
       "    </tr>\n",
       "  </thead>\n",
       "  <tbody>\n",
       "    <tr>\n",
       "      <th>stu1</th>\n",
       "      <td>Priyang</td>\n",
       "      <td>98</td>\n",
       "      <td>AA</td>\n",
       "    </tr>\n",
       "    <tr>\n",
       "      <th>stu2</th>\n",
       "      <td>Aadhya</td>\n",
       "      <td>89</td>\n",
       "      <td>AB</td>\n",
       "    </tr>\n",
       "    <tr>\n",
       "      <th>stu3</th>\n",
       "      <td>Krisha</td>\n",
       "      <td>99</td>\n",
       "      <td>AA</td>\n",
       "    </tr>\n",
       "    <tr>\n",
       "      <th>stu4</th>\n",
       "      <td>Vedant</td>\n",
       "      <td>87</td>\n",
       "      <td>AB</td>\n",
       "    </tr>\n",
       "    <tr>\n",
       "      <th>stu5</th>\n",
       "      <td>Parshv</td>\n",
       "      <td>90</td>\n",
       "      <td>AC</td>\n",
       "    </tr>\n",
       "    <tr>\n",
       "      <th>stu6</th>\n",
       "      <td>Mittal</td>\n",
       "      <td>83</td>\n",
       "      <td>BA</td>\n",
       "    </tr>\n",
       "    <tr>\n",
       "      <th>stu7</th>\n",
       "      <td>Archana</td>\n",
       "      <td>82</td>\n",
       "      <td>BB</td>\n",
       "    </tr>\n",
       "  </tbody>\n",
       "</table>\n",
       "</div>"
      ],
      "text/plain": [
       "         Name  Marks Grades\n",
       "stu1  Priyang     98     AA\n",
       "stu2   Aadhya     89     AB\n",
       "stu3   Krisha     99     AA\n",
       "stu4   Vedant     87     AB\n",
       "stu5   Parshv     90     AC\n",
       "stu6   Mittal     83     BA\n",
       "stu7  Archana     82     BB"
      ]
     },
     "execution_count": 1,
     "metadata": {},
     "output_type": "execute_result"
    }
   ],
   "source": [
    "import pandas as pd\n",
    "dict1 ={'Name':['Priyang','Aadhya','Krisha','Vedant','Parshv',\n",
    "                'Mittal','Archana'],\n",
    "                'Marks':[98,89,99,87,90,83,82],\n",
    "                'Grades':['AA','AB','AA','AB','AC','BA','BB']\n",
    "               }\n",
    "df1=pd.DataFrame(dict1,index=['stu1','stu2','stu3','stu4','stu5',\n",
    "                             'stu6','stu7'])\n",
    "df1"
   ]
  },
  {
   "cell_type": "markdown",
   "id": "1335da00-4495-4a8a-972e-3b2e2f600a9d",
   "metadata": {},
   "source": [
    "# Students having marks greater than 90"
   ]
  },
  {
   "cell_type": "code",
   "execution_count": 3,
   "id": "38558302-6402-4a59-a275-5242cf2dfe24",
   "metadata": {},
   "outputs": [
    {
     "data": {
      "text/html": [
       "<div>\n",
       "<style scoped>\n",
       "    .dataframe tbody tr th:only-of-type {\n",
       "        vertical-align: middle;\n",
       "    }\n",
       "\n",
       "    .dataframe tbody tr th {\n",
       "        vertical-align: top;\n",
       "    }\n",
       "\n",
       "    .dataframe thead th {\n",
       "        text-align: right;\n",
       "    }\n",
       "</style>\n",
       "<table border=\"1\" class=\"dataframe\">\n",
       "  <thead>\n",
       "    <tr style=\"text-align: right;\">\n",
       "      <th></th>\n",
       "      <th>Name</th>\n",
       "      <th>Marks</th>\n",
       "      <th>Grades</th>\n",
       "    </tr>\n",
       "  </thead>\n",
       "  <tbody>\n",
       "    <tr>\n",
       "      <th>stu1</th>\n",
       "      <td>Priyang</td>\n",
       "      <td>98</td>\n",
       "      <td>AA</td>\n",
       "    </tr>\n",
       "    <tr>\n",
       "      <th>stu3</th>\n",
       "      <td>Krisha</td>\n",
       "      <td>99</td>\n",
       "      <td>AA</td>\n",
       "    </tr>\n",
       "  </tbody>\n",
       "</table>\n",
       "</div>"
      ],
      "text/plain": [
       "         Name  Marks Grades\n",
       "stu1  Priyang     98     AA\n",
       "stu3   Krisha     99     AA"
      ]
     },
     "execution_count": 3,
     "metadata": {},
     "output_type": "execute_result"
    }
   ],
   "source": [
    "df1[df1['Marks']>90]"
   ]
  },
  {
   "cell_type": "markdown",
   "id": "05776789-5e92-44a3-b42d-5252c169fe18",
   "metadata": {},
   "source": [
    "# students having AB Grade"
   ]
  },
  {
   "cell_type": "code",
   "execution_count": 4,
   "id": "f9c96d33-b664-42ae-902a-96015336f3c9",
   "metadata": {},
   "outputs": [
    {
     "data": {
      "text/html": [
       "<div>\n",
       "<style scoped>\n",
       "    .dataframe tbody tr th:only-of-type {\n",
       "        vertical-align: middle;\n",
       "    }\n",
       "\n",
       "    .dataframe tbody tr th {\n",
       "        vertical-align: top;\n",
       "    }\n",
       "\n",
       "    .dataframe thead th {\n",
       "        text-align: right;\n",
       "    }\n",
       "</style>\n",
       "<table border=\"1\" class=\"dataframe\">\n",
       "  <thead>\n",
       "    <tr style=\"text-align: right;\">\n",
       "      <th></th>\n",
       "      <th>Name</th>\n",
       "      <th>Marks</th>\n",
       "      <th>Grades</th>\n",
       "    </tr>\n",
       "  </thead>\n",
       "  <tbody>\n",
       "    <tr>\n",
       "      <th>stu1</th>\n",
       "      <td>Priyang</td>\n",
       "      <td>98</td>\n",
       "      <td>AA</td>\n",
       "    </tr>\n",
       "    <tr>\n",
       "      <th>stu2</th>\n",
       "      <td>Aadhya</td>\n",
       "      <td>89</td>\n",
       "      <td>AB</td>\n",
       "    </tr>\n",
       "    <tr>\n",
       "      <th>stu3</th>\n",
       "      <td>Krisha</td>\n",
       "      <td>99</td>\n",
       "      <td>AA</td>\n",
       "    </tr>\n",
       "    <tr>\n",
       "      <th>stu4</th>\n",
       "      <td>Vedant</td>\n",
       "      <td>87</td>\n",
       "      <td>AB</td>\n",
       "    </tr>\n",
       "    <tr>\n",
       "      <th>stu5</th>\n",
       "      <td>Parshv</td>\n",
       "      <td>90</td>\n",
       "      <td>AC</td>\n",
       "    </tr>\n",
       "    <tr>\n",
       "      <th>stu6</th>\n",
       "      <td>Mittal</td>\n",
       "      <td>83</td>\n",
       "      <td>BA</td>\n",
       "    </tr>\n",
       "    <tr>\n",
       "      <th>stu7</th>\n",
       "      <td>Archana</td>\n",
       "      <td>82</td>\n",
       "      <td>BB</td>\n",
       "    </tr>\n",
       "  </tbody>\n",
       "</table>\n",
       "</div>"
      ],
      "text/plain": [
       "         Name  Marks Grades\n",
       "stu1  Priyang     98     AA\n",
       "stu2   Aadhya     89     AB\n",
       "stu3   Krisha     99     AA\n",
       "stu4   Vedant     87     AB\n",
       "stu5   Parshv     90     AC\n",
       "stu6   Mittal     83     BA\n",
       "stu7  Archana     82     BB"
      ]
     },
     "execution_count": 4,
     "metadata": {},
     "output_type": "execute_result"
    }
   ],
   "source": [
    "df1"
   ]
  },
  {
   "cell_type": "code",
   "execution_count": 7,
   "id": "73e903e6-7e23-42bb-b5df-de8aa596206b",
   "metadata": {},
   "outputs": [
    {
     "data": {
      "text/html": [
       "<div>\n",
       "<style scoped>\n",
       "    .dataframe tbody tr th:only-of-type {\n",
       "        vertical-align: middle;\n",
       "    }\n",
       "\n",
       "    .dataframe tbody tr th {\n",
       "        vertical-align: top;\n",
       "    }\n",
       "\n",
       "    .dataframe thead th {\n",
       "        text-align: right;\n",
       "    }\n",
       "</style>\n",
       "<table border=\"1\" class=\"dataframe\">\n",
       "  <thead>\n",
       "    <tr style=\"text-align: right;\">\n",
       "      <th></th>\n",
       "      <th>Name</th>\n",
       "      <th>Marks</th>\n",
       "      <th>Grades</th>\n",
       "    </tr>\n",
       "  </thead>\n",
       "  <tbody>\n",
       "    <tr>\n",
       "      <th>stu2</th>\n",
       "      <td>Aadhya</td>\n",
       "      <td>89</td>\n",
       "      <td>AB</td>\n",
       "    </tr>\n",
       "    <tr>\n",
       "      <th>stu4</th>\n",
       "      <td>Vedant</td>\n",
       "      <td>87</td>\n",
       "      <td>AB</td>\n",
       "    </tr>\n",
       "  </tbody>\n",
       "</table>\n",
       "</div>"
      ],
      "text/plain": [
       "        Name  Marks Grades\n",
       "stu2  Aadhya     89     AB\n",
       "stu4  Vedant     87     AB"
      ]
     },
     "execution_count": 7,
     "metadata": {},
     "output_type": "execute_result"
    }
   ],
   "source": [
    "df1[df1['Grades']=='AB']"
   ]
  },
  {
   "cell_type": "markdown",
   "id": "ac42d4be-d559-455f-b7c1-065d4d1f499c",
   "metadata": {},
   "source": [
    "# Student having marks greater than 90 and have grade AB grade"
   ]
  },
  {
   "cell_type": "code",
   "execution_count": 15,
   "id": "84897803-a61c-4c21-9462-e5922c0e4351",
   "metadata": {},
   "outputs": [
    {
     "data": {
      "text/html": [
       "<div>\n",
       "<style scoped>\n",
       "    .dataframe tbody tr th:only-of-type {\n",
       "        vertical-align: middle;\n",
       "    }\n",
       "\n",
       "    .dataframe tbody tr th {\n",
       "        vertical-align: top;\n",
       "    }\n",
       "\n",
       "    .dataframe thead th {\n",
       "        text-align: right;\n",
       "    }\n",
       "</style>\n",
       "<table border=\"1\" class=\"dataframe\">\n",
       "  <thead>\n",
       "    <tr style=\"text-align: right;\">\n",
       "      <th></th>\n",
       "      <th>Name</th>\n",
       "      <th>Marks</th>\n",
       "      <th>Grades</th>\n",
       "    </tr>\n",
       "  </thead>\n",
       "  <tbody>\n",
       "    <tr>\n",
       "      <th>stu2</th>\n",
       "      <td>Aadhya</td>\n",
       "      <td>89</td>\n",
       "      <td>AB</td>\n",
       "    </tr>\n",
       "    <tr>\n",
       "      <th>stu4</th>\n",
       "      <td>Vedant</td>\n",
       "      <td>87</td>\n",
       "      <td>AB</td>\n",
       "    </tr>\n",
       "  </tbody>\n",
       "</table>\n",
       "</div>"
      ],
      "text/plain": [
       "        Name  Marks Grades\n",
       "stu2  Aadhya     89     AB\n",
       "stu4  Vedant     87     AB"
      ]
     },
     "execution_count": 15,
     "metadata": {},
     "output_type": "execute_result"
    }
   ],
   "source": [
    "df1[(df1['Marks']>80)& (df1['Grades']=='AB')]\n"
   ]
  },
  {
   "cell_type": "markdown",
   "id": "996b3b63-5c21-4706-985f-e9ae7c89d4f7",
   "metadata": {},
   "source": [
    "# name of the student who are grater then 90"
   ]
  },
  {
   "cell_type": "code",
   "execution_count": 19,
   "id": "cbb02d29-3c50-4562-8a0f-7fcfa98b36b0",
   "metadata": {},
   "outputs": [
    {
     "data": {
      "text/plain": [
       "stu1    Priyang\n",
       "stu3     Krisha\n",
       "Name: Name, dtype: object"
      ]
     },
     "execution_count": 19,
     "metadata": {},
     "output_type": "execute_result"
    }
   ],
   "source": [
    "df1[df1['Marks']>90]['Name']"
   ]
  },
  {
   "cell_type": "markdown",
   "id": "096a07ae-0d0a-4720-a89b-f079763ab173",
   "metadata": {},
   "source": [
    "# name of the student having AB Grade"
   ]
  },
  {
   "cell_type": "code",
   "execution_count": 21,
   "id": "6d3bf2d3-284d-488a-94bd-2c9873c03603",
   "metadata": {},
   "outputs": [
    {
     "data": {
      "text/plain": [
       "stu2    Aadhya\n",
       "stu4    Vedant\n",
       "Name: Name, dtype: object"
      ]
     },
     "execution_count": 21,
     "metadata": {},
     "output_type": "execute_result"
    }
   ],
   "source": [
    "df1[df1['Grades']=='AB']['Name']"
   ]
  },
  {
   "cell_type": "markdown",
   "id": "21a6f64a-08bf-41d7-ab8c-b6b2ab2795ce",
   "metadata": {},
   "source": [
    "# Students having marks greater than 90"
   ]
  },
  {
   "cell_type": "code",
   "execution_count": 22,
   "id": "3e17929c-232b-4cc5-834e-f65458ef03d4",
   "metadata": {},
   "outputs": [
    {
     "data": {
      "text/html": [
       "<div>\n",
       "<style scoped>\n",
       "    .dataframe tbody tr th:only-of-type {\n",
       "        vertical-align: middle;\n",
       "    }\n",
       "\n",
       "    .dataframe tbody tr th {\n",
       "        vertical-align: top;\n",
       "    }\n",
       "\n",
       "    .dataframe thead th {\n",
       "        text-align: right;\n",
       "    }\n",
       "</style>\n",
       "<table border=\"1\" class=\"dataframe\">\n",
       "  <thead>\n",
       "    <tr style=\"text-align: right;\">\n",
       "      <th></th>\n",
       "      <th>Name</th>\n",
       "      <th>Marks</th>\n",
       "      <th>Grades</th>\n",
       "    </tr>\n",
       "  </thead>\n",
       "  <tbody>\n",
       "    <tr>\n",
       "      <th>stu1</th>\n",
       "      <td>Priyang</td>\n",
       "      <td>98</td>\n",
       "      <td>AA</td>\n",
       "    </tr>\n",
       "    <tr>\n",
       "      <th>stu3</th>\n",
       "      <td>Krisha</td>\n",
       "      <td>99</td>\n",
       "      <td>AA</td>\n",
       "    </tr>\n",
       "  </tbody>\n",
       "</table>\n",
       "</div>"
      ],
      "text/plain": [
       "         Name  Marks Grades\n",
       "stu1  Priyang     98     AA\n",
       "stu3   Krisha     99     AA"
      ]
     },
     "execution_count": 22,
     "metadata": {},
     "output_type": "execute_result"
    }
   ],
   "source": [
    "df1.loc[df1['Marks']>90]"
   ]
  },
  {
   "cell_type": "markdown",
   "id": "192addc9-ed19-49b0-81ff-c7ac458b76cb",
   "metadata": {},
   "source": [
    "# students having AB Grade"
   ]
  },
  {
   "cell_type": "code",
   "execution_count": 23,
   "id": "90114ac6-3760-4a24-8120-aa84d96d9fc9",
   "metadata": {},
   "outputs": [
    {
     "data": {
      "text/html": [
       "<div>\n",
       "<style scoped>\n",
       "    .dataframe tbody tr th:only-of-type {\n",
       "        vertical-align: middle;\n",
       "    }\n",
       "\n",
       "    .dataframe tbody tr th {\n",
       "        vertical-align: top;\n",
       "    }\n",
       "\n",
       "    .dataframe thead th {\n",
       "        text-align: right;\n",
       "    }\n",
       "</style>\n",
       "<table border=\"1\" class=\"dataframe\">\n",
       "  <thead>\n",
       "    <tr style=\"text-align: right;\">\n",
       "      <th></th>\n",
       "      <th>Name</th>\n",
       "      <th>Marks</th>\n",
       "      <th>Grades</th>\n",
       "    </tr>\n",
       "  </thead>\n",
       "  <tbody>\n",
       "    <tr>\n",
       "      <th>stu2</th>\n",
       "      <td>Aadhya</td>\n",
       "      <td>89</td>\n",
       "      <td>AB</td>\n",
       "    </tr>\n",
       "    <tr>\n",
       "      <th>stu4</th>\n",
       "      <td>Vedant</td>\n",
       "      <td>87</td>\n",
       "      <td>AB</td>\n",
       "    </tr>\n",
       "  </tbody>\n",
       "</table>\n",
       "</div>"
      ],
      "text/plain": [
       "        Name  Marks Grades\n",
       "stu2  Aadhya     89     AB\n",
       "stu4  Vedant     87     AB"
      ]
     },
     "execution_count": 23,
     "metadata": {},
     "output_type": "execute_result"
    }
   ],
   "source": [
    "df1.loc[df1['Grades']=='AB']"
   ]
  },
  {
   "cell_type": "markdown",
   "id": "a57eb450-5f21-477d-9dc9-72a2da74d17b",
   "metadata": {},
   "source": [
    "# Student having marks greater than 90 and have grade AB grade"
   ]
  },
  {
   "cell_type": "code",
   "execution_count": 26,
   "id": "f7c14881-4150-446f-b07b-1cf7ef2f72d0",
   "metadata": {},
   "outputs": [
    {
     "data": {
      "text/html": [
       "<div>\n",
       "<style scoped>\n",
       "    .dataframe tbody tr th:only-of-type {\n",
       "        vertical-align: middle;\n",
       "    }\n",
       "\n",
       "    .dataframe tbody tr th {\n",
       "        vertical-align: top;\n",
       "    }\n",
       "\n",
       "    .dataframe thead th {\n",
       "        text-align: right;\n",
       "    }\n",
       "</style>\n",
       "<table border=\"1\" class=\"dataframe\">\n",
       "  <thead>\n",
       "    <tr style=\"text-align: right;\">\n",
       "      <th></th>\n",
       "      <th>Name</th>\n",
       "      <th>Marks</th>\n",
       "      <th>Grades</th>\n",
       "    </tr>\n",
       "  </thead>\n",
       "  <tbody>\n",
       "    <tr>\n",
       "      <th>stu2</th>\n",
       "      <td>Aadhya</td>\n",
       "      <td>89</td>\n",
       "      <td>AB</td>\n",
       "    </tr>\n",
       "    <tr>\n",
       "      <th>stu4</th>\n",
       "      <td>Vedant</td>\n",
       "      <td>87</td>\n",
       "      <td>AB</td>\n",
       "    </tr>\n",
       "  </tbody>\n",
       "</table>\n",
       "</div>"
      ],
      "text/plain": [
       "        Name  Marks Grades\n",
       "stu2  Aadhya     89     AB\n",
       "stu4  Vedant     87     AB"
      ]
     },
     "execution_count": 26,
     "metadata": {},
     "output_type": "execute_result"
    }
   ],
   "source": [
    "df1.loc[(df1['Marks']>80) & (df1['Grades']=='AB')]"
   ]
  },
  {
   "cell_type": "markdown",
   "id": "3d45d091-e7e5-459e-8209-8915c3130ef7",
   "metadata": {},
   "source": [
    "# name of the student who are grater then 90"
   ]
  },
  {
   "cell_type": "code",
   "execution_count": 27,
   "id": "24ccf4d5-5b5f-48b1-bef0-1a6a53c23dcd",
   "metadata": {},
   "outputs": [
    {
     "data": {
      "text/plain": [
       "stu1    Priyang\n",
       "stu3     Krisha\n",
       "Name: Name, dtype: object"
      ]
     },
     "execution_count": 27,
     "metadata": {},
     "output_type": "execute_result"
    }
   ],
   "source": [
    "df1.loc[df1['Marks']>90]['Name']"
   ]
  },
  {
   "cell_type": "markdown",
   "id": "b3c5db07-973b-4bf8-b559-44b62e645b68",
   "metadata": {},
   "source": [
    "# name of the student having AB Grade"
   ]
  },
  {
   "cell_type": "code",
   "execution_count": 32,
   "id": "24ca8401-8274-4648-aa21-39c911be8516",
   "metadata": {},
   "outputs": [
    {
     "data": {
      "text/plain": [
       "stu2    Aadhya\n",
       "stu4    Vedant\n",
       "Name: Name, dtype: object"
      ]
     },
     "execution_count": 32,
     "metadata": {},
     "output_type": "execute_result"
    }
   ],
   "source": [
    "df1.loc[df1['Grades']=='AB']['Name']"
   ]
  },
  {
   "cell_type": "markdown",
   "id": "48260ca1-984d-4f69-8538-ffbf54daa5a5",
   "metadata": {},
   "source": [
    "# Students having marks greater than 90¶"
   ]
  },
  {
   "cell_type": "code",
   "execution_count": 29,
   "id": "44b6fcfe-356c-4563-bff1-4834e75d477c",
   "metadata": {},
   "outputs": [
    {
     "data": {
      "text/html": [
       "<div>\n",
       "<style scoped>\n",
       "    .dataframe tbody tr th:only-of-type {\n",
       "        vertical-align: middle;\n",
       "    }\n",
       "\n",
       "    .dataframe tbody tr th {\n",
       "        vertical-align: top;\n",
       "    }\n",
       "\n",
       "    .dataframe thead th {\n",
       "        text-align: right;\n",
       "    }\n",
       "</style>\n",
       "<table border=\"1\" class=\"dataframe\">\n",
       "  <thead>\n",
       "    <tr style=\"text-align: right;\">\n",
       "      <th></th>\n",
       "      <th>Name</th>\n",
       "      <th>Marks</th>\n",
       "      <th>Grades</th>\n",
       "    </tr>\n",
       "  </thead>\n",
       "  <tbody>\n",
       "    <tr>\n",
       "      <th>stu1</th>\n",
       "      <td>Priyang</td>\n",
       "      <td>98</td>\n",
       "      <td>AA</td>\n",
       "    </tr>\n",
       "    <tr>\n",
       "      <th>stu3</th>\n",
       "      <td>Krisha</td>\n",
       "      <td>99</td>\n",
       "      <td>AA</td>\n",
       "    </tr>\n",
       "  </tbody>\n",
       "</table>\n",
       "</div>"
      ],
      "text/plain": [
       "         Name  Marks Grades\n",
       "stu1  Priyang     98     AA\n",
       "stu3   Krisha     99     AA"
      ]
     },
     "execution_count": 29,
     "metadata": {},
     "output_type": "execute_result"
    }
   ],
   "source": [
    "df1[df1.iloc[:,1]>90]"
   ]
  },
  {
   "cell_type": "markdown",
   "id": "6a180bb4-1a86-4258-8e8b-4da7e1885cfc",
   "metadata": {},
   "source": [
    "# students having AB Grade"
   ]
  },
  {
   "cell_type": "code",
   "execution_count": 33,
   "id": "f73aef9e-81a4-4dfc-8489-08ae8fa1ff77",
   "metadata": {},
   "outputs": [
    {
     "data": {
      "text/html": [
       "<div>\n",
       "<style scoped>\n",
       "    .dataframe tbody tr th:only-of-type {\n",
       "        vertical-align: middle;\n",
       "    }\n",
       "\n",
       "    .dataframe tbody tr th {\n",
       "        vertical-align: top;\n",
       "    }\n",
       "\n",
       "    .dataframe thead th {\n",
       "        text-align: right;\n",
       "    }\n",
       "</style>\n",
       "<table border=\"1\" class=\"dataframe\">\n",
       "  <thead>\n",
       "    <tr style=\"text-align: right;\">\n",
       "      <th></th>\n",
       "      <th>Name</th>\n",
       "      <th>Marks</th>\n",
       "      <th>Grades</th>\n",
       "    </tr>\n",
       "  </thead>\n",
       "  <tbody>\n",
       "    <tr>\n",
       "      <th>stu2</th>\n",
       "      <td>Aadhya</td>\n",
       "      <td>89</td>\n",
       "      <td>AB</td>\n",
       "    </tr>\n",
       "    <tr>\n",
       "      <th>stu4</th>\n",
       "      <td>Vedant</td>\n",
       "      <td>87</td>\n",
       "      <td>AB</td>\n",
       "    </tr>\n",
       "  </tbody>\n",
       "</table>\n",
       "</div>"
      ],
      "text/plain": [
       "        Name  Marks Grades\n",
       "stu2  Aadhya     89     AB\n",
       "stu4  Vedant     87     AB"
      ]
     },
     "execution_count": 33,
     "metadata": {},
     "output_type": "execute_result"
    }
   ],
   "source": [
    "df1[df1.iloc[:,2]=='AB']"
   ]
  },
  {
   "cell_type": "markdown",
   "id": "bb233b47-2e9c-40a0-a69a-60c7609a8cfa",
   "metadata": {},
   "source": [
    "# Student having marks greater than 90 and have grade AB grade"
   ]
  },
  {
   "cell_type": "code",
   "execution_count": 35,
   "id": "c09e5655-c8db-479c-8156-895015a98a56",
   "metadata": {},
   "outputs": [
    {
     "data": {
      "text/html": [
       "<div>\n",
       "<style scoped>\n",
       "    .dataframe tbody tr th:only-of-type {\n",
       "        vertical-align: middle;\n",
       "    }\n",
       "\n",
       "    .dataframe tbody tr th {\n",
       "        vertical-align: top;\n",
       "    }\n",
       "\n",
       "    .dataframe thead th {\n",
       "        text-align: right;\n",
       "    }\n",
       "</style>\n",
       "<table border=\"1\" class=\"dataframe\">\n",
       "  <thead>\n",
       "    <tr style=\"text-align: right;\">\n",
       "      <th></th>\n",
       "      <th>Name</th>\n",
       "      <th>Marks</th>\n",
       "      <th>Grades</th>\n",
       "    </tr>\n",
       "  </thead>\n",
       "  <tbody>\n",
       "    <tr>\n",
       "      <th>stu2</th>\n",
       "      <td>Aadhya</td>\n",
       "      <td>89</td>\n",
       "      <td>AB</td>\n",
       "    </tr>\n",
       "    <tr>\n",
       "      <th>stu4</th>\n",
       "      <td>Vedant</td>\n",
       "      <td>87</td>\n",
       "      <td>AB</td>\n",
       "    </tr>\n",
       "  </tbody>\n",
       "</table>\n",
       "</div>"
      ],
      "text/plain": [
       "        Name  Marks Grades\n",
       "stu2  Aadhya     89     AB\n",
       "stu4  Vedant     87     AB"
      ]
     },
     "execution_count": 35,
     "metadata": {},
     "output_type": "execute_result"
    }
   ],
   "source": [
    "df1[(df1.iloc[:,1]>80) & (df1.iloc[:,2]=='AB')]"
   ]
  },
  {
   "cell_type": "markdown",
   "id": "451d195b-41e7-4422-8ff4-ea327c52ac50",
   "metadata": {},
   "source": [
    "# name of the student who are grater then 90"
   ]
  },
  {
   "cell_type": "code",
   "execution_count": 36,
   "id": "64000a49-2768-43a0-8dea-56b6d7f80c24",
   "metadata": {},
   "outputs": [
    {
     "data": {
      "text/plain": [
       "stu1    Priyang\n",
       "stu3     Krisha\n",
       "Name: Name, dtype: object"
      ]
     },
     "execution_count": 36,
     "metadata": {},
     "output_type": "execute_result"
    }
   ],
   "source": [
    "df1[df1.iloc[:,1]>90]['Name']"
   ]
  },
  {
   "cell_type": "markdown",
   "id": "61fbe006-3215-4763-a676-1e205943126e",
   "metadata": {},
   "source": [
    "# Name of the student who are having grdes AB"
   ]
  },
  {
   "cell_type": "code",
   "execution_count": 37,
   "id": "5b3b3888-b189-45f3-a048-db1b2764f6ad",
   "metadata": {},
   "outputs": [
    {
     "data": {
      "text/plain": [
       "stu2    Aadhya\n",
       "stu4    Vedant\n",
       "Name: Name, dtype: object"
      ]
     },
     "execution_count": 37,
     "metadata": {},
     "output_type": "execute_result"
    }
   ],
   "source": [
    "df1[df1.iloc[:,2]=='AB']['Name']"
   ]
  },
  {
   "cell_type": "code",
   "execution_count": null,
   "id": "42d48a62-7223-445d-9ac7-1c1fada5203b",
   "metadata": {},
   "outputs": [],
   "source": []
  }
 ],
 "metadata": {
  "kernelspec": {
   "display_name": "Python 3 (ipykernel)",
   "language": "python",
   "name": "python3"
  },
  "language_info": {
   "codemirror_mode": {
    "name": "ipython",
    "version": 3
   },
   "file_extension": ".py",
   "mimetype": "text/x-python",
   "name": "python",
   "nbconvert_exporter": "python",
   "pygments_lexer": "ipython3",
   "version": "3.12.3"
  }
 },
 "nbformat": 4,
 "nbformat_minor": 5
}
