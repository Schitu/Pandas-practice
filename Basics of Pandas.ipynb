{
 "cells": [
  {
   "cell_type": "markdown",
   "id": "e96ea14d-f4de-4af9-baf7-067111adca04",
   "metadata": {},
   "source": [
    "# creating a series\n",
    "# Using list\n",
    "# using tuple\n",
    "# using dict\n",
    "# using scalar\n",
    "# using numpy"
   ]
  },
  {
   "cell_type": "code",
   "execution_count": 2,
   "id": "c769bc0e-2f15-4698-8a43-dfcd82fe981e",
   "metadata": {},
   "outputs": [],
   "source": [
    "import numpy as np\n",
    "import pandas as pd"
   ]
  },
  {
   "cell_type": "code",
   "execution_count": 12,
   "id": "8f1be945-4337-4cf2-8704-10afe007311b",
   "metadata": {},
   "outputs": [
    {
     "name": "stdout",
     "output_type": "stream",
     "text": [
      "0           1\n",
      "1           2\n",
      "2           3\n",
      "3           4\n",
      "4           5\n",
      "5    sathwika\n",
      "dtype: object\n"
     ]
    }
   ],
   "source": [
    "List=[1,2,3,4,5,\"sathwika\"]\n",
    "series=pd.Series(List)\n",
    "print(series)"
   ]
  },
  {
   "cell_type": "code",
   "execution_count": 14,
   "id": "6775ce5d-8c46-4882-b8be-8d656afe3759",
   "metadata": {},
   "outputs": [
    {
     "name": "stdout",
     "output_type": "stream",
     "text": [
      "0    1\n",
      "1    2\n",
      "2    3\n",
      "3    4\n",
      "4    5\n",
      "dtype: int64\n"
     ]
    }
   ],
   "source": [
    "tuple=(1,2,3,4,5)\n",
    "series2=pd.Series(tuple)\n",
    "print(series2)"
   ]
  },
  {
   "cell_type": "code",
   "execution_count": 18,
   "id": "9a29b0af-60c9-46c7-9f0c-7eddb9b4f61a",
   "metadata": {},
   "outputs": [
    {
     "name": "stdout",
     "output_type": "stream",
     "text": [
      "1    30\n",
      "5    23\n",
      "3    45\n",
      "4    56\n",
      "9    43\n",
      "dtype: int64\n"
     ]
    }
   ],
   "source": [
    "dict={1:30,5:23,3:45,4:56,9:43}\n",
    "series=pd.Series(dict)\n",
    "print(series)"
   ]
  },
  {
   "cell_type": "code",
   "execution_count": 19,
   "id": "9c12c769-ecd1-41aa-8bcb-c1056c31cb29",
   "metadata": {},
   "outputs": [
    {
     "name": "stdout",
     "output_type": "stream",
     "text": [
      "1    11\n",
      "2    11\n",
      "3    11\n",
      "4    11\n",
      "5    11\n",
      "dtype: int64\n"
     ]
    }
   ],
   "source": [
    "series=pd.Series(11,index=(1,2,3,4,5))\n",
    "print(series)"
   ]
  },
  {
   "cell_type": "code",
   "execution_count": 21,
   "id": "aa126975-6ca4-41eb-8a6c-6758db190b06",
   "metadata": {},
   "outputs": [
    {
     "name": "stdout",
     "output_type": "stream",
     "text": [
      "0    1\n",
      "1    2\n",
      "2    3\n",
      "3    4\n",
      "4    5\n",
      "dtype: int32\n"
     ]
    }
   ],
   "source": [
    "numpy=np.array([1,2,3,4,5])\n",
    "series=pd.Series(numpy)\n",
    "print(series)"
   ]
  },
  {
   "cell_type": "markdown",
   "id": "c6e4ffeb-2cc8-45d3-8d52-14551bf0ee58",
   "metadata": {},
   "source": [
    "# Accessing the elements in series"
   ]
  },
  {
   "cell_type": "code",
   "execution_count": 34,
   "id": "08beb354-6fa3-4fe5-8769-1f5447267459",
   "metadata": {},
   "outputs": [
    {
     "data": {
      "text/plain": [
       "1"
      ]
     },
     "execution_count": 34,
     "metadata": {},
     "output_type": "execute_result"
    }
   ],
   "source": [
    "list=[1,2,3,4,\"sathwika\"]\n",
    "series=pd.Series(list,index=(0,1,2,3,4))\n",
    "\n",
    "series[0]\n"
   ]
  },
  {
   "cell_type": "code",
   "execution_count": 35,
   "id": "c626a65e-92bb-4d32-abfe-cd5006aba18d",
   "metadata": {},
   "outputs": [
    {
     "data": {
      "text/plain": [
       "0    1\n",
       "1    2\n",
       "2    3\n",
       "3    4\n",
       "dtype: object"
      ]
     },
     "execution_count": 35,
     "metadata": {},
     "output_type": "execute_result"
    }
   ],
   "source": [
    "series[0:4]"
   ]
  },
  {
   "cell_type": "markdown",
   "id": "d9caefb8-1459-4264-a4ec-41a524653ef7",
   "metadata": {},
   "source": [
    "# operations in pandas"
   ]
  },
  {
   "cell_type": "code",
   "execution_count": 40,
   "id": "5cfbd5cc-f100-491a-b3b7-e2ae70974cfe",
   "metadata": {},
   "outputs": [
    {
     "data": {
      "text/plain": [
       "0     5\n",
       "1     7\n",
       "2     9\n",
       "3    11\n",
       "4    13\n",
       "dtype: int64"
      ]
     },
     "execution_count": 40,
     "metadata": {},
     "output_type": "execute_result"
    }
   ],
   "source": [
    "s1=pd.Series([1,2,3,4,5])\n",
    "s2=pd.Series([4,5,6,7,8])\n",
    "s1+s2\n"
   ]
  },
  {
   "cell_type": "code",
   "execution_count": 41,
   "id": "7a39cb8a-d3ca-45f4-b9d0-9111466b505a",
   "metadata": {},
   "outputs": [
    {
     "data": {
      "text/plain": [
       "0    0.250000\n",
       "1    0.400000\n",
       "2    0.500000\n",
       "3    0.571429\n",
       "4    0.625000\n",
       "dtype: float64"
      ]
     },
     "execution_count": 41,
     "metadata": {},
     "output_type": "execute_result"
    }
   ],
   "source": [
    "s1/s2"
   ]
  },
  {
   "cell_type": "code",
   "execution_count": 42,
   "id": "5ecfa536-f7c8-4bc1-b3fe-3dce918c99d8",
   "metadata": {},
   "outputs": [
    {
     "data": {
      "text/plain": [
       "0     4\n",
       "1    10\n",
       "2    18\n",
       "3    28\n",
       "4    40\n",
       "dtype: int64"
      ]
     },
     "execution_count": 42,
     "metadata": {},
     "output_type": "execute_result"
    }
   ],
   "source": [
    "s1*s2"
   ]
  },
  {
   "cell_type": "code",
   "execution_count": 43,
   "id": "200bb441-4d76-4b21-a30e-5d490f64699f",
   "metadata": {},
   "outputs": [
    {
     "data": {
      "text/plain": [
       "0   -3\n",
       "1   -3\n",
       "2   -3\n",
       "3   -3\n",
       "4   -3\n",
       "dtype: int64"
      ]
     },
     "execution_count": 43,
     "metadata": {},
     "output_type": "execute_result"
    }
   ],
   "source": [
    "s1-s2"
   ]
  },
  {
   "cell_type": "markdown",
   "id": "04f8e9b1-507c-4ffa-976e-322c83a64c7c",
   "metadata": {},
   "source": [
    "# creating a dataframe\n",
    "# using lists\n",
    "# using Nested Lists\n",
    "# Dictionary\n",
    "# Numpy array\n",
    "# series"
   ]
  },
  {
   "cell_type": "code",
   "execution_count": 47,
   "id": "cefc41e2-78ce-4e43-b09f-f2ec9c5cf50f",
   "metadata": {},
   "outputs": [
    {
     "name": "stdout",
     "output_type": "stream",
     "text": [
      "   0\n",
      "0  1\n",
      "1  2\n",
      "2  3\n",
      "3  4\n",
      "4  5\n"
     ]
    }
   ],
   "source": [
    "list=[1,2,3,4,5]\n",
    "df=pd.DataFrame(list)\n",
    "print(df)"
   ]
  },
  {
   "cell_type": "code",
   "execution_count": 49,
   "id": "0f527419-def7-4bc5-8d30-5354d97ab9d3",
   "metadata": {},
   "outputs": [
    {
     "name": "stdout",
     "output_type": "stream",
     "text": [
      "          0   1\n",
      "0   Priyang  89\n",
      "1  Sathwika   6\n",
      "2    Piyush  13\n"
     ]
    }
   ],
   "source": [
    "nestedlist=[['Priyang',89],['Sathwika',6],['Piyush',13]]\n",
    "df=pd.DataFrame(nestedlist)\n",
    "print(df)"
   ]
  },
  {
   "cell_type": "code",
   "execution_count": 51,
   "id": "7ba4b883-5a4c-40c3-8c0f-dcd0ca3b1c73",
   "metadata": {},
   "outputs": [
    {
     "name": "stdout",
     "output_type": "stream",
     "text": [
      "       name  age\n",
      "0  sathwika   23\n",
      "1  Akanksha   34\n",
      "2   rithwik   45\n"
     ]
    }
   ],
   "source": [
    "dict={'name':['sathwika','Akanksha','rithwik'],'age':[23,34,45]}\n",
    "df=pd.DataFrame(dict)\n",
    "print(df)"
   ]
  },
  {
   "cell_type": "code",
   "execution_count": 53,
   "id": "f56abde8-8311-4fcd-a2bf-bf57f06c21df",
   "metadata": {},
   "outputs": [
    {
     "name": "stdout",
     "output_type": "stream",
     "text": [
      "   a  b  c  d  e\n",
      "3  1  2  3  4  5\n",
      "6  4  5  6  7  9\n"
     ]
    }
   ],
   "source": [
    "numpy=[[1,2,3,4,5],[4,5,6,7,9]]\n",
    "df=pd.DataFrame(numpy,columns=['a','b','c','d','e'],index=[3,6])\n",
    "print(df)\n",
    "       "
   ]
  },
  {
   "cell_type": "code",
   "execution_count": 58,
   "id": "91d5b23f-bb67-4991-b7e7-3660a2b4942f",
   "metadata": {},
   "outputs": [
    {
     "name": "stdout",
     "output_type": "stream",
     "text": [
      "  first  second\n",
      "0     a       1\n",
      "1     b       2\n",
      "2     c       3\n",
      "3     d       4\n",
      "4     e       5\n"
     ]
    }
   ],
   "source": [
    "d={'first':pd.Series(['a','b','c','d','e']),\n",
    "   'second':pd.Series([1,2,3,4,5])}\n",
    "df=pd.DataFrame(d)\n",
    "print(df)"
   ]
  },
  {
   "cell_type": "code",
   "execution_count": null,
   "id": "2fdeafbe-2b82-4e4c-b31d-e8d21370fe24",
   "metadata": {},
   "outputs": [],
   "source": []
  }
 ],
 "metadata": {
  "kernelspec": {
   "display_name": "Python 3 (ipykernel)",
   "language": "python",
   "name": "python3"
  },
  "language_info": {
   "codemirror_mode": {
    "name": "ipython",
    "version": 3
   },
   "file_extension": ".py",
   "mimetype": "text/x-python",
   "name": "python",
   "nbconvert_exporter": "python",
   "pygments_lexer": "ipython3",
   "version": "3.12.3"
  }
 },
 "nbformat": 4,
 "nbformat_minor": 5
}
